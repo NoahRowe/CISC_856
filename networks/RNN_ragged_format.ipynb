{
 "cells": [
  {
   "cell_type": "code",
   "execution_count": 1,
   "id": "00bf848a",
   "metadata": {},
   "outputs": [],
   "source": [
    "import numpy as np\n",
    "import pandas as pd\n",
    "import matplotlib.pyplot as plt"
   ]
  },
  {
   "cell_type": "code",
   "execution_count": 2,
   "id": "d0d5f465",
   "metadata": {},
   "outputs": [],
   "source": [
    "# Load in the stock data and create some basic features\n",
    "data = pd.read_csv(\"../data/Coinbase_BTCUSD_dailydata.csv\")\n",
    "\n",
    "# Generate some fake columns just for formatting practice\n",
    "data['net_worth'] = 100\n",
    "data['num_stocks'] = 20\n",
    "\n",
    "data.sort_values(by=[\"date\"], inplace=True)\n",
    "data.reset_index(drop=True, inplace=True)"
   ]
  },
  {
   "cell_type": "code",
   "execution_count": 3,
   "id": "7b0a914b",
   "metadata": {},
   "outputs": [],
   "source": [
    "# Create the features for the RNN\n",
    "import tensorflow as tf\n",
    "x = []\n",
    "for i in range(5, len(data)):\n",
    "    tensor_list = [\n",
    "        data[\"unix\"].iloc[i-5:i].values,#.reshape(1,-1),\n",
    "        data[\"low\"].iloc[i-5:i].values,#.reshape(1,-1),\n",
    "        data[\"high\"].iloc[i-5:i].values,#.reshape(1,-1),\n",
    "        data[\"open\"].iloc[i-5:i].values,#.reshape(1,-1),\n",
    "        data[\"close\"].iloc[i-5:i].values,#.reshape(1,-1),\n",
    "        data[\"volume\"].iloc[i-5:i].values,#.reshape(1,-1),\n",
    "        data['net_worth'].iloc[i-1:i].values,#.reshape(1,-1),\n",
    "        data['num_stocks'].iloc[i-1:i].values,#.reshape(1,-1)\n",
    "    ]\n",
    "    x.append(tensor_list)\n",
    "    \n",
    "y = np.ones(len(x))"
   ]
  },
  {
   "cell_type": "code",
   "execution_count": 6,
   "id": "d3505da4",
   "metadata": {},
   "outputs": [
    {
     "data": {
      "text/plain": [
       "<tf.RaggedTensor [[[1619308800.0, 1619395200.0, 1619481600.0, 1619568000.0, 1619654400.0],\n",
       "  [47044.01, 48817.62, 53321.0, 53887.0, 52369.61],\n",
       "  [50591.38, 54400.0, 55509.39, 56476.17, 55226.86], ...,\n",
       "  [14633.512, 18005.225, 13957.087, 16484.336, 14592.316], [100.0],\n",
       "  [20.0]],\n",
       " [[1619395200.0, 1619481600.0, 1619568000.0, 1619654400.0, 1619740800.0],\n",
       "  [48817.62, 53321.0, 53887.0, 52369.61, 53068.43],\n",
       "  [54400.0, 55509.39, 56476.17, 55226.86, 58075.01], ...,\n",
       "  [18005.225, 13957.087, 16484.336, 14592.316, 16536.332], [100.0],\n",
       "  [20.0]],\n",
       " [[1619481600.0, 1619568000.0, 1619654400.0, 1619740800.0, 1619827200.0],\n",
       "  [53321.0, 53887.0, 52369.61, 53068.43, 57050.94],\n",
       "  [55509.39, 56476.17, 55226.86, 58075.01, 58550.0], ...,\n",
       "  [13957.087, 16484.336, 14592.316, 16536.332, 10787.05], [100.0], [20.0]],\n",
       " ...,\n",
       " [[1644537600.0, 1644624000.0, 1644710400.0, 1644796800.0, 1644883200.0],\n",
       "  [42000.0, 41750.0, 41885.61, 41570.0, 42433.28],\n",
       "  [43962.13, 43050.0, 42781.96, 42876.15, 44775.96], ...,\n",
       "  [19367.416, 8664.42, 6208.941, 14805.983, 14154.734], [100.0], [20.0]],\n",
       " [[1644624000.0, 1644710400.0, 1644796800.0, 1644883200.0, 1644969600.0],\n",
       "  [41750.0, 41885.61, 41570.0, 42433.28, 43330.59],\n",
       "  [43050.0, 42781.96, 42876.15, 44775.96, 44585.69], ...,\n",
       "  [8664.42, 6208.941, 14805.983, 14154.734, 9663.44], [100.0], [20.0]],\n",
       " [[1644710400.0, 1644796800.0, 1644883200.0, 1644969600.0, 1645056000.0],\n",
       "  [41885.61, 41570.0, 42433.28, 43330.59, 40099.99],\n",
       "  [42781.96, 42876.15, 44775.96, 44585.69, 44195.62], ...,\n",
       "  [6208.941, 14805.983, 14154.734, 9663.44, 18630.11], [100.0], [20.0]]]>"
      ]
     },
     "execution_count": 6,
     "metadata": {},
     "output_type": "execute_result"
    }
   ],
   "source": [
    "ragged_tensor"
   ]
  },
  {
   "cell_type": "code",
   "execution_count": 5,
   "id": "f16b6d85",
   "metadata": {},
   "outputs": [
    {
     "name": "stdout",
     "output_type": "stream",
     "text": [
      "Metal device set to: Apple M1\n"
     ]
    },
    {
     "name": "stderr",
     "output_type": "stream",
     "text": [
      "2022-03-28 16:41:27.895150: I tensorflow/core/common_runtime/pluggable_device/pluggable_device_factory.cc:305] Could not identify NUMA node of platform GPU ID 0, defaulting to 0. Your kernel may not have been built with NUMA support.\n",
      "2022-03-28 16:41:27.895332: I tensorflow/core/common_runtime/pluggable_device/pluggable_device_factory.cc:271] Created TensorFlow device (/job:localhost/replica:0/task:0/device:GPU:0 with 0 MB memory) -> physical PluggableDevice (device: 0, name: METAL, pci bus id: <undefined>)\n"
     ]
    }
   ],
   "source": [
    "ragged_tensor = tf.ragged.constant(x)"
   ]
  },
  {
   "cell_type": "code",
   "execution_count": 59,
   "id": "bd9c1557",
   "metadata": {},
   "outputs": [],
   "source": [
    "batch_size = 10\n",
    "\n",
    "dataset = tf.data.Dataset.from_tensor_slices((ragged_tensor, y))\n",
    "dataset = dataset.shuffle(10000, reshuffle_each_iteration=True)\n",
    "\n",
    "# Split into train and test\n",
    "dataset_train = dataset.take(100)\n",
    "dataset_test = dataset.skip(100)\n",
    "\n",
    "dataset_train = dataset_train.batch(batch_size).prefetch(100)\n",
    "dataset_test = dataset_test.batch(batch_size).prefetch(100)"
   ]
  },
  {
   "cell_type": "code",
   "execution_count": 52,
   "id": "760f1a89",
   "metadata": {},
   "outputs": [
    {
     "name": "stdout",
     "output_type": "stream",
     "text": [
      "Model: \"sequential_5\"\n",
      "_________________________________________________________________\n",
      " Layer (type)                Output Shape              Param #   \n",
      "=================================================================\n",
      " lstm_5 (LSTM)               (None, 64)                17920     \n",
      "                                                                 \n",
      " dense_5 (Dense)             (None, 1)                 65        \n",
      "                                                                 \n",
      "=================================================================\n",
      "Total params: 17,985\n",
      "Trainable params: 17,985\n",
      "Non-trainable params: 0\n",
      "_________________________________________________________________\n",
      "Epoch 1/10\n"
     ]
    },
    {
     "name": "stderr",
     "output_type": "stream",
     "text": [
      "2022-03-25 12:29:27.974007: I tensorflow/core/grappler/optimizers/custom_graph_optimizer_registry.cc:113] Plugin optimizer for device_type GPU is enabled.\n",
      "2022-03-25 12:29:28.082830: I tensorflow/core/grappler/optimizers/custom_graph_optimizer_registry.cc:113] Plugin optimizer for device_type GPU is enabled.\n",
      "2022-03-25 12:29:28.136536: I tensorflow/core/grappler/optimizers/custom_graph_optimizer_registry.cc:113] Plugin optimizer for device_type GPU is enabled.\n"
     ]
    },
    {
     "name": "stdout",
     "output_type": "stream",
     "text": [
      "10/10 [==============================] - 1s 15ms/step - loss: 0.0000e+00 - accuracy: 1.0000\n",
      "Epoch 2/10\n",
      "10/10 [==============================] - 0s 10ms/step - loss: 0.0000e+00 - accuracy: 1.0000\n",
      "Epoch 3/10\n",
      "10/10 [==============================] - 0s 10ms/step - loss: 0.0000e+00 - accuracy: 1.0000\n",
      "Epoch 4/10\n",
      "10/10 [==============================] - 0s 10ms/step - loss: 0.0000e+00 - accuracy: 1.0000\n",
      "Epoch 5/10\n",
      "10/10 [==============================] - 0s 10ms/step - loss: 0.0000e+00 - accuracy: 1.0000\n",
      "Epoch 6/10\n",
      "10/10 [==============================] - 0s 10ms/step - loss: 0.0000e+00 - accuracy: 1.0000\n",
      "Epoch 7/10\n",
      "10/10 [==============================] - 0s 10ms/step - loss: 0.0000e+00 - accuracy: 1.0000\n",
      "Epoch 8/10\n",
      "10/10 [==============================] - 0s 10ms/step - loss: 0.0000e+00 - accuracy: 1.0000\n",
      "Epoch 9/10\n",
      "10/10 [==============================] - 0s 10ms/step - loss: 0.0000e+00 - accuracy: 1.0000\n",
      "Epoch 10/10\n",
      "10/10 [==============================] - 0s 10ms/step - loss: 0.0000e+00 - accuracy: 1.0000\n"
     ]
    }
   ],
   "source": [
    "# Design the model\n",
    "from tensorflow.keras import layers\n",
    "\n",
    "# For ragged tensor , get maximum sequence length\n",
    "max_seq = ragged_tensor.bounding_shape()[-1]\n",
    "\n",
    "mdl = tf.keras.Sequential([\n",
    "    # Input Layer with shape = [Any,  maximum sequence length]                      \n",
    "    tf.keras.layers.Input(shape=[None, max_seq], dtype=tf.float32, ragged=True),\n",
    "    tf.keras.layers.LSTM(64),\n",
    "    tf.keras.layers.Dense(1, activation='softmax')\n",
    "])\n",
    "\n",
    "# CategoricalCrossentropy\n",
    "mdl.compile(loss=tf.keras.losses.CategoricalCrossentropy(from_logits=True),\n",
    "              optimizer=tf.keras.optimizers.Adam(1e-4),\n",
    "              metrics=['accuracy'])\n",
    "\n",
    "mdl.summary()\n",
    "history = mdl.fit(ragged_tensor, y, epochs=10)"
   ]
  },
  {
   "cell_type": "code",
   "execution_count": null,
   "id": "9c53bfd4",
   "metadata": {},
   "outputs": [],
   "source": []
  }
 ],
 "metadata": {
  "kernelspec": {
   "display_name": "Python 3 (ipykernel)",
   "language": "python",
   "name": "python3"
  },
  "language_info": {
   "codemirror_mode": {
    "name": "ipython",
    "version": 3
   },
   "file_extension": ".py",
   "mimetype": "text/x-python",
   "name": "python",
   "nbconvert_exporter": "python",
   "pygments_lexer": "ipython3",
   "version": "3.9.7"
  }
 },
 "nbformat": 4,
 "nbformat_minor": 5
}
