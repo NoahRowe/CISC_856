{
 "cells": [
  {
   "cell_type": "code",
   "execution_count": 49,
   "metadata": {},
   "outputs": [],
   "source": [
    "\n",
    "import matplotlib.pyplot as plt\n",
    "from matplotlib.animation import FuncAnimation\n",
    "import numpy as np"
   ]
  },
  {
   "cell_type": "code",
   "execution_count": 44,
   "metadata": {},
   "outputs": [],
   "source": [
    "def animate(i):\n",
    "    x.append(i)\n",
    "    y.append(R[i])\n",
    "\n",
    "    plt.clear()\n",
    "    plt.plot(x, y)\n",
    "    plt.axhline(1000,color='b')\n",
    "    plt.xlim([0,200])\n",
    "    plt.ylim([0,100000])\n",
    "    plt.legend('Current Balance','Starting Balance')\n",
    "    \n",
    "\n",
    "    "
   ]
  },
  {
   "cell_type": "code",
   "execution_count": 52,
   "metadata": {},
   "outputs": [
    {
     "name": "stdout",
     "output_type": "stream",
     "text": [
      "200\n"
     ]
    },
    {
     "data": {
      "text/plain": [
       "<Figure size 720x576 with 0 Axes>"
      ]
     },
     "metadata": {},
     "output_type": "display_data"
    }
   ],
   "source": [
    "x=[]\n",
    "y=[]\n",
    "R=[]\n",
    "with open('20220329_RNNTraining.txt') as f:\n",
    "    lines = f.readlines()\n",
    "for i in range(len(lines)):\n",
    "    R.append(float(lines[i]))\n",
    "#R = np.linspace()\n",
    "#print(lines)\n",
    "print(len(R))\n",
    "fig = plt.figure(figsize=((10,8)))\n",
    "\n",
    "#import matplotlib.pyplot as plt\n",
    "ani = FuncAnimation(fig,animate,frames=200,interval=100)\n",
    "#ani.save(r'RewardPlot.gif')\n",
    "plt.show()\n",
    "\n"
   ]
  }
 ],
 "metadata": {
  "interpreter": {
   "hash": "aa1ea68fd943ab6737a882ad6b4f529909acfc0376c9c3c2c0a09d168620394f"
  },
  "kernelspec": {
   "display_name": "Python 3.8.8 ('base')",
   "language": "python",
   "name": "python3"
  },
  "language_info": {
   "codemirror_mode": {
    "name": "ipython",
    "version": 3
   },
   "file_extension": ".py",
   "mimetype": "text/x-python",
   "name": "python",
   "nbconvert_exporter": "python",
   "pygments_lexer": "ipython3",
   "version": "3.8.8"
  },
  "orig_nbformat": 4
 },
 "nbformat": 4,
 "nbformat_minor": 2
}
